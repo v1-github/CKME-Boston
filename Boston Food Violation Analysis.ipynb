{
 "cells": [
  {
   "cell_type": "markdown",
   "metadata": {},
   "source": [
    "# Boston Food Violation Analysis"
   ]
  },
  {
   "cell_type": "markdown",
   "metadata": {},
   "source": [
    "Import necessary packages"
   ]
  },
  {
   "cell_type": "code",
   "execution_count": 2,
   "metadata": {},
   "outputs": [],
   "source": [
    "import pandas as pd\n",
    "import numpy as np\n",
    "import matplotlib.pyplot as plt\n",
    "import pandas as pd\n",
    "import seaborn as sns "
   ]
  },
  {
   "cell_type": "markdown",
   "metadata": {},
   "source": [
    "Load data"
   ]
  },
  {
   "cell_type": "code",
   "execution_count": 3,
   "metadata": {},
   "outputs": [
    {
     "name": "stderr",
     "output_type": "stream",
     "text": [
      "C:\\Users\\69018\\Anaconda3\\lib\\site-packages\\IPython\\core\\interactiveshell.py:3058: DtypeWarning: Columns (23,24) have mixed types. Specify dtype option on import or set low_memory=False.\n",
      "  interactivity=interactivity, compiler=compiler, result=result)\n"
     ]
    }
   ],
   "source": [
    "data = pd.read_csv('C://Users//69018//Desktop//VL folder//CAPSTONE//tmppgx_njve.csv',encoding = \"ISO-8859-1\")"
   ]
  },
  {
   "cell_type": "markdown",
   "metadata": {},
   "source": [
    "Check if data is loaded"
   ]
  },
  {
   "cell_type": "code",
   "execution_count": 4,
   "metadata": {},
   "outputs": [
    {
     "data": {
      "text/html": [
       "<div>\n",
       "<style scoped>\n",
       "    .dataframe tbody tr th:only-of-type {\n",
       "        vertical-align: middle;\n",
       "    }\n",
       "\n",
       "    .dataframe tbody tr th {\n",
       "        vertical-align: top;\n",
       "    }\n",
       "\n",
       "    .dataframe thead th {\n",
       "        text-align: right;\n",
       "    }\n",
       "</style>\n",
       "<table border=\"1\" class=\"dataframe\">\n",
       "  <thead>\n",
       "    <tr style=\"text-align: right;\">\n",
       "      <th></th>\n",
       "      <th>businessname</th>\n",
       "      <th>dbaname</th>\n",
       "      <th>legalowner</th>\n",
       "      <th>namelast</th>\n",
       "      <th>namefirst</th>\n",
       "      <th>licenseno</th>\n",
       "      <th>issdttm</th>\n",
       "      <th>expdttm</th>\n",
       "      <th>licstatus</th>\n",
       "      <th>licensecat</th>\n",
       "      <th>...</th>\n",
       "      <th>violdttm</th>\n",
       "      <th>violstatus</th>\n",
       "      <th>statusdate</th>\n",
       "      <th>comments</th>\n",
       "      <th>address</th>\n",
       "      <th>city</th>\n",
       "      <th>state</th>\n",
       "      <th>zip</th>\n",
       "      <th>property_id</th>\n",
       "      <th>location</th>\n",
       "    </tr>\n",
       "  </thead>\n",
       "  <tbody>\n",
       "    <tr>\n",
       "      <td>0</td>\n",
       "      <td>100 Percent Delicia Food</td>\n",
       "      <td>NaN</td>\n",
       "      <td>BRENNAN PATRICK E</td>\n",
       "      <td>Marte</td>\n",
       "      <td>Civelis</td>\n",
       "      <td>87059</td>\n",
       "      <td>4/5/2013 12:47</td>\n",
       "      <td>12/31/2019 23:59</td>\n",
       "      <td>Active</td>\n",
       "      <td>FS</td>\n",
       "      <td>...</td>\n",
       "      <td>2/15/2013 12:19</td>\n",
       "      <td>Fail</td>\n",
       "      <td>NaN</td>\n",
       "      <td>Provide glass storage rack.</td>\n",
       "      <td>635   Hyde Park AVE</td>\n",
       "      <td>Roslindale</td>\n",
       "      <td>MA</td>\n",
       "      <td>2131</td>\n",
       "      <td>77476</td>\n",
       "      <td>(42.278590000, -71.119440000)</td>\n",
       "    </tr>\n",
       "    <tr>\n",
       "      <td>1</td>\n",
       "      <td>100 Percent Delicia Food</td>\n",
       "      <td>NaN</td>\n",
       "      <td>BRENNAN PATRICK E</td>\n",
       "      <td>Marte</td>\n",
       "      <td>Civelis</td>\n",
       "      <td>87059</td>\n",
       "      <td>4/5/2013 12:47</td>\n",
       "      <td>12/31/2019 23:59</td>\n",
       "      <td>Active</td>\n",
       "      <td>FS</td>\n",
       "      <td>...</td>\n",
       "      <td>2/15/2013 12:19</td>\n",
       "      <td>Fail</td>\n",
       "      <td>NaN</td>\n",
       "      <td>Provide dish rack over 3 bay sink to replace m...</td>\n",
       "      <td>635   Hyde Park AVE</td>\n",
       "      <td>Roslindale</td>\n",
       "      <td>MA</td>\n",
       "      <td>2131</td>\n",
       "      <td>77476</td>\n",
       "      <td>(42.278590000, -71.119440000)</td>\n",
       "    </tr>\n",
       "    <tr>\n",
       "      <td>2</td>\n",
       "      <td>100 Percent Delicia Food</td>\n",
       "      <td>NaN</td>\n",
       "      <td>BRENNAN PATRICK E</td>\n",
       "      <td>Marte</td>\n",
       "      <td>Civelis</td>\n",
       "      <td>87059</td>\n",
       "      <td>4/5/2013 12:47</td>\n",
       "      <td>12/31/2019 23:59</td>\n",
       "      <td>Active</td>\n",
       "      <td>FS</td>\n",
       "      <td>...</td>\n",
       "      <td>2/15/2013 12:19</td>\n",
       "      <td>Fail</td>\n",
       "      <td>NaN</td>\n",
       "      <td>Provide dish washer at ware washing area.</td>\n",
       "      <td>635   Hyde Park AVE</td>\n",
       "      <td>Roslindale</td>\n",
       "      <td>MA</td>\n",
       "      <td>2131</td>\n",
       "      <td>77476</td>\n",
       "      <td>(42.278590000, -71.119440000)</td>\n",
       "    </tr>\n",
       "    <tr>\n",
       "      <td>3</td>\n",
       "      <td>100 Percent Delicia Food</td>\n",
       "      <td>NaN</td>\n",
       "      <td>BRENNAN PATRICK E</td>\n",
       "      <td>Marte</td>\n",
       "      <td>Civelis</td>\n",
       "      <td>87059</td>\n",
       "      <td>4/5/2013 12:47</td>\n",
       "      <td>12/31/2019 23:59</td>\n",
       "      <td>Active</td>\n",
       "      <td>FS</td>\n",
       "      <td>...</td>\n",
       "      <td>2/15/2013 12:19</td>\n",
       "      <td>Fail</td>\n",
       "      <td>NaN</td>\n",
       "      <td>Provide mop sink at basement.</td>\n",
       "      <td>635   Hyde Park AVE</td>\n",
       "      <td>Roslindale</td>\n",
       "      <td>MA</td>\n",
       "      <td>2131</td>\n",
       "      <td>77476</td>\n",
       "      <td>(42.278590000, -71.119440000)</td>\n",
       "    </tr>\n",
       "    <tr>\n",
       "      <td>4</td>\n",
       "      <td>100 Percent Delicia Food</td>\n",
       "      <td>NaN</td>\n",
       "      <td>BRENNAN PATRICK E</td>\n",
       "      <td>Marte</td>\n",
       "      <td>Civelis</td>\n",
       "      <td>87059</td>\n",
       "      <td>4/5/2013 12:47</td>\n",
       "      <td>12/31/2019 23:59</td>\n",
       "      <td>Active</td>\n",
       "      <td>FS</td>\n",
       "      <td>...</td>\n",
       "      <td>2/15/2013 12:19</td>\n",
       "      <td>Fail</td>\n",
       "      <td>NaN</td>\n",
       "      <td>No hand sink at Bar Area  provide.</td>\n",
       "      <td>635   Hyde Park AVE</td>\n",
       "      <td>Roslindale</td>\n",
       "      <td>MA</td>\n",
       "      <td>2131</td>\n",
       "      <td>77476</td>\n",
       "      <td>(42.278590000, -71.119440000)</td>\n",
       "    </tr>\n",
       "  </tbody>\n",
       "</table>\n",
       "<p>5 rows × 26 columns</p>\n",
       "</div>"
      ],
      "text/plain": [
       "               businessname dbaname         legalowner namelast namefirst  \\\n",
       "0  100 Percent Delicia Food     NaN  BRENNAN PATRICK E    Marte   Civelis   \n",
       "1  100 Percent Delicia Food     NaN  BRENNAN PATRICK E    Marte   Civelis   \n",
       "2  100 Percent Delicia Food     NaN  BRENNAN PATRICK E    Marte   Civelis   \n",
       "3  100 Percent Delicia Food     NaN  BRENNAN PATRICK E    Marte   Civelis   \n",
       "4  100 Percent Delicia Food     NaN  BRENNAN PATRICK E    Marte   Civelis   \n",
       "\n",
       "   licenseno         issdttm           expdttm licstatus licensecat  ...  \\\n",
       "0      87059  4/5/2013 12:47  12/31/2019 23:59    Active         FS  ...   \n",
       "1      87059  4/5/2013 12:47  12/31/2019 23:59    Active         FS  ...   \n",
       "2      87059  4/5/2013 12:47  12/31/2019 23:59    Active         FS  ...   \n",
       "3      87059  4/5/2013 12:47  12/31/2019 23:59    Active         FS  ...   \n",
       "4      87059  4/5/2013 12:47  12/31/2019 23:59    Active         FS  ...   \n",
       "\n",
       "          violdttm violstatus statusdate  \\\n",
       "0  2/15/2013 12:19       Fail        NaN   \n",
       "1  2/15/2013 12:19       Fail        NaN   \n",
       "2  2/15/2013 12:19       Fail        NaN   \n",
       "3  2/15/2013 12:19       Fail        NaN   \n",
       "4  2/15/2013 12:19       Fail        NaN   \n",
       "\n",
       "                                            comments              address  \\\n",
       "0                        Provide glass storage rack.  635   Hyde Park AVE   \n",
       "1  Provide dish rack over 3 bay sink to replace m...  635   Hyde Park AVE   \n",
       "2          Provide dish washer at ware washing area.  635   Hyde Park AVE   \n",
       "3                      Provide mop sink at basement.  635   Hyde Park AVE   \n",
       "4                 No hand sink at Bar Area  provide.  635   Hyde Park AVE   \n",
       "\n",
       "         city state   zip property_id                       location  \n",
       "0  Roslindale    MA  2131       77476  (42.278590000, -71.119440000)  \n",
       "1  Roslindale    MA  2131       77476  (42.278590000, -71.119440000)  \n",
       "2  Roslindale    MA  2131       77476  (42.278590000, -71.119440000)  \n",
       "3  Roslindale    MA  2131       77476  (42.278590000, -71.119440000)  \n",
       "4  Roslindale    MA  2131       77476  (42.278590000, -71.119440000)  \n",
       "\n",
       "[5 rows x 26 columns]"
      ]
     },
     "execution_count": 4,
     "metadata": {},
     "output_type": "execute_result"
    }
   ],
   "source": [
    "data.head()"
   ]
  },
  {
   "cell_type": "markdown",
   "metadata": {},
   "source": [
    "# Data Exploration"
   ]
  },
  {
   "cell_type": "code",
   "execution_count": 5,
   "metadata": {},
   "outputs": [
    {
     "data": {
      "text/plain": [
       "Index(['businessname', 'dbaname', 'legalowner', 'namelast', 'namefirst',\n",
       "       'licenseno', 'issdttm', 'expdttm', 'licstatus', 'licensecat',\n",
       "       'descript', 'result', 'resultdttm', 'violation', 'viollevel',\n",
       "       'violdesc', 'violdttm', 'violstatus', 'statusdate', 'comments',\n",
       "       'address', 'city', 'state', 'zip', 'property_id', 'location'],\n",
       "      dtype='object')"
      ]
     },
     "execution_count": 5,
     "metadata": {},
     "output_type": "execute_result"
    }
   ],
   "source": [
    "data.columns"
   ]
  },
  {
   "cell_type": "markdown",
   "metadata": {},
   "source": [
    "Null Value Summary of columns"
   ]
  },
  {
   "cell_type": "code",
   "execution_count": 13,
   "metadata": {
    "scrolled": true
   },
   "outputs": [
    {
     "data": {
      "text/plain": [
       "businessname         0\n",
       "dbaname         579826\n",
       "legalowner      180175\n",
       "namelast             0\n",
       "namefirst          114\n",
       "licenseno            0\n",
       "issdttm              0\n",
       "expdttm              0\n",
       "licstatus            0\n",
       "licensecat           0\n",
       "descript             0\n",
       "result               0\n",
       "resultdttm           0\n",
       "violation        32770\n",
       "viollevel        32770\n",
       "violdesc         32781\n",
       "violdttm             0\n",
       "violstatus       32770\n",
       "statusdate      341880\n",
       "comments             4\n",
       "address              0\n",
       "city                27\n",
       "state                0\n",
       "zip                235\n",
       "property_id     130968\n",
       "location        166357\n",
       "dtype: int64"
      ]
     },
     "execution_count": 13,
     "metadata": {},
     "output_type": "execute_result"
    }
   ],
   "source": [
    "data.isnull().sum()"
   ]
  },
  {
   "cell_type": "markdown",
   "metadata": {},
   "source": [
    "Check license status of restaurants"
   ]
  },
  {
   "cell_type": "code",
   "execution_count": 40,
   "metadata": {},
   "outputs": [
    {
     "data": {
      "text/plain": [
       "<matplotlib.axes._subplots.AxesSubplot at 0x22a0023c608>"
      ]
     },
     "execution_count": 40,
     "metadata": {},
     "output_type": "execute_result"
    },
    {
     "data": {
      "image/png": "[encoded data removed]",
      "text/plain": [
       "<Figure size 432x288 with 1 Axes>"
      ]
     },
     "metadata": {
      "needs_background": "light"
     },
     "output_type": "display_data"
    }
   ],
   "source": [
    "data['licstatus'].value_counts().plot.bar()"
   ]
  },
  {
   "cell_type": "markdown",
   "metadata": {},
   "source": [
    "Use only active restaurants"
   ]
  },
  {
   "cell_type": "code",
   "execution_count": 41,
   "metadata": {},
   "outputs": [],
   "source": [
    "active=data[data['licstatus'] =='Active']"
   ]
  },
  {
   "cell_type": "code",
   "execution_count": 42,
   "metadata": {},
   "outputs": [
    {
     "data": {
      "text/plain": [
       "Fail    190060\n",
       "Pass    154717\n",
       "          2137\n",
       "Name: violstatus, dtype: int64"
      ]
     },
     "execution_count": 42,
     "metadata": {},
     "output_type": "execute_result"
    }
   ],
   "source": [
    "active['violstatus'].value_counts()"
   ]
  },
  {
   "cell_type": "code",
   "execution_count": 43,
   "metadata": {
    "scrolled": true
   },
   "outputs": [
    {
     "data": {
      "text/plain": [
       "<matplotlib.axes._subplots.AxesSubplot at 0x22a002d67c8>"
      ]
     },
     "execution_count": 43,
     "metadata": {},
     "output_type": "execute_result"
    },
    {
     "data": {
      "image/png": "[encoded data removed]",
      "text/plain": [
       "<Figure size 432x288 with 1 Axes>"
      ]
     },
     "metadata": {
      "needs_background": "light"
     },
     "output_type": "display_data"
    }
   ],
   "source": [
    "active['viollevel'].value_counts().plot.bar()"
   ]
  },
  {
   "cell_type": "markdown",
   "metadata": {},
   "source": [
    "Missing Values within Active Restaurants"
   ]
  },
  {
   "cell_type": "code",
   "execution_count": 44,
   "metadata": {},
   "outputs": [
    {
     "data": {
      "text/plain": [
       "Text(0.5, 1.0, 'counts of missing value')"
      ]
     },
     "execution_count": 44,
     "metadata": {},
     "output_type": "execute_result"
    },
    {
     "data": {
      "image/png": "[encoded data removed]",
      "text/plain": [
       "<Figure size 720x720 with 1 Axes>"
      ]
     },
     "metadata": {
      "needs_background": "light"
     },
     "output_type": "display_data"
    }
   ],
   "source": [
    "plt.figure(figsize=(10,10))\n",
    "sns.barplot(x=active.isnull().sum().sort_values(ascending=False),y=data.isnull().sum().sort_values(ascending=False).index)\n",
    "plt.title(\"counts of missing value\",size=20)"
   ]
  },
  {
   "cell_type": "code",
   "execution_count": 47,
   "metadata": {},
   "outputs": [
    {
     "data": {
      "text/plain": [
       "346914"
      ]
     },
     "execution_count": 47,
     "metadata": {},
     "output_type": "execute_result"
    }
   ],
   "source": [
    "active['violstatus'].count()"
   ]
  },
  {
   "cell_type": "code",
   "execution_count": 48,
   "metadata": {},
   "outputs": [
    {
     "data": {
      "text/plain": [
       "Dunkin Donuts                          2190\n",
       "Subway                                 1843\n",
       "The Real Deal                          1454\n",
       "Dunkin' Donuts                         1282\n",
       "Burger King                            1003\n",
       "                                       ... \n",
       "MIKE'S PASTRY INC.                        1\n",
       "Maverick Multi Service Groceri Inc.       1\n",
       "Good Bite                                 1\n",
       "Mary Ann's                                1\n",
       "Blue Mountain Jamaican Restaurant         1\n",
       "Name: businessname, Length: 3465, dtype: int64"
      ]
     },
     "execution_count": 48,
     "metadata": {},
     "output_type": "execute_result"
    }
   ],
   "source": [
    "active['businessname'].value_counts()"
   ]
  },
  {
   "cell_type": "markdown",
   "metadata": {},
   "source": []
  },
  {
   "cell_type": "markdown",
   "metadata": {},
   "source": [
    "Drop Duplicates "
   ]
  },
  {
   "cell_type": "code",
   "execution_count": 51,
   "metadata": {},
   "outputs": [],
   "source": [
    "active_clean=active.drop_duplicates()"
   ]
  },
  {
   "cell_type": "markdown",
   "metadata": {},
   "source": [
    "Duplicate Differences"
   ]
  },
  {
   "cell_type": "code",
   "execution_count": 52,
   "metadata": {},
   "outputs": [
    {
     "data": {
      "text/plain": [
       "8"
      ]
     },
     "execution_count": 52,
     "metadata": {},
     "output_type": "execute_result"
    }
   ],
   "source": [
    "len(active)-len(active_clean)"
   ]
  },
  {
   "cell_type": "code",
   "execution_count": null,
   "metadata": {},
   "outputs": [],
   "source": []
  },
  {
   "cell_type": "code",
   "execution_count": null,
   "metadata": {},
   "outputs": [],
   "source": []
  },
  {
   "cell_type": "code",
   "execution_count": null,
   "metadata": {},
   "outputs": [],
   "source": []
  }
 ],
 "metadata": {
  "kernelspec": {
   "display_name": "Python 3",
   "language": "python",
   "name": "python3"
  },
  "language_info": {
   "codemirror_mode": {
    "name": "ipython",
    "version": 3
   },
   "file_extension": ".py",
   "mimetype": "text/x-python",
   "name": "python",
   "nbconvert_exporter": "python",
   "pygments_lexer": "ipython3",
   "version": "3.7.4"
  }
 },
 "nbformat": 4,
 "nbformat_minor": 2
}
